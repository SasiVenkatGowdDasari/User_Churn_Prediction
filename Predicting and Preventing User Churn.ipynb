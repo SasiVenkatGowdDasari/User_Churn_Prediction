{
 "cells": [
  {
   "cell_type": "code",
   "execution_count": 32,
   "metadata": {},
   "outputs": [],
   "source": [
    "import pandas as pd\n",
    "import matplotlib.pyplot as plt\n",
    "import seaborn as sns"
   ]
  },
  {
   "cell_type": "markdown",
   "metadata": {},
   "source": [
    "# EDA"
   ]
  },
  {
   "cell_type": "markdown",
   "metadata": {},
   "source": [
    "Loading the dataset"
   ]
  },
  {
   "cell_type": "code",
   "execution_count": 33,
   "metadata": {},
   "outputs": [],
   "source": [
    "# data=pd.read_csv(r\"C:\\Users\\sasiv\\sasi\\P applications\\Hizen.ai\\events.csv\")\n",
    "data = pd.read_csv(\"events.csv\")"
   ]
  },
  {
   "cell_type": "markdown",
   "metadata": {},
   "source": [
    "first few rows of the dataset"
   ]
  },
  {
   "cell_type": "code",
   "execution_count": 34,
   "metadata": {},
   "outputs": [
    {
     "data": {
      "text/html": [
       "<div>\n",
       "<style scoped>\n",
       "    .dataframe tbody tr th:only-of-type {\n",
       "        vertical-align: middle;\n",
       "    }\n",
       "\n",
       "    .dataframe tbody tr th {\n",
       "        vertical-align: top;\n",
       "    }\n",
       "\n",
       "    .dataframe thead th {\n",
       "        text-align: right;\n",
       "    }\n",
       "</style>\n",
       "<table border=\"1\" class=\"dataframe\">\n",
       "  <thead>\n",
       "    <tr style=\"text-align: right;\">\n",
       "      <th></th>\n",
       "      <th>event_time</th>\n",
       "      <th>event_type</th>\n",
       "      <th>product_id</th>\n",
       "      <th>category_id</th>\n",
       "      <th>category_code</th>\n",
       "      <th>brand</th>\n",
       "      <th>price</th>\n",
       "      <th>user_id</th>\n",
       "      <th>user_session</th>\n",
       "    </tr>\n",
       "  </thead>\n",
       "  <tbody>\n",
       "    <tr>\n",
       "      <th>0</th>\n",
       "      <td>2020-09-24 11:57:06 UTC</td>\n",
       "      <td>view</td>\n",
       "      <td>1996170</td>\n",
       "      <td>2144415922528452715</td>\n",
       "      <td>electronics.telephone</td>\n",
       "      <td>NaN</td>\n",
       "      <td>31.90</td>\n",
       "      <td>1515915625519388267</td>\n",
       "      <td>LJuJVLEjPT</td>\n",
       "    </tr>\n",
       "    <tr>\n",
       "      <th>1</th>\n",
       "      <td>2020-09-24 11:57:26 UTC</td>\n",
       "      <td>view</td>\n",
       "      <td>139905</td>\n",
       "      <td>2144415926932472027</td>\n",
       "      <td>computers.components.cooler</td>\n",
       "      <td>zalman</td>\n",
       "      <td>17.16</td>\n",
       "      <td>1515915625519380411</td>\n",
       "      <td>tdicluNnRY</td>\n",
       "    </tr>\n",
       "    <tr>\n",
       "      <th>2</th>\n",
       "      <td>2020-09-24 11:57:27 UTC</td>\n",
       "      <td>view</td>\n",
       "      <td>215454</td>\n",
       "      <td>2144415927158964449</td>\n",
       "      <td>NaN</td>\n",
       "      <td>NaN</td>\n",
       "      <td>9.81</td>\n",
       "      <td>1515915625513238515</td>\n",
       "      <td>4TMArHtXQy</td>\n",
       "    </tr>\n",
       "    <tr>\n",
       "      <th>3</th>\n",
       "      <td>2020-09-24 11:57:33 UTC</td>\n",
       "      <td>view</td>\n",
       "      <td>635807</td>\n",
       "      <td>2144415923107266682</td>\n",
       "      <td>computers.peripherals.printer</td>\n",
       "      <td>pantum</td>\n",
       "      <td>113.81</td>\n",
       "      <td>1515915625519014356</td>\n",
       "      <td>aGFYrNgC08</td>\n",
       "    </tr>\n",
       "    <tr>\n",
       "      <th>4</th>\n",
       "      <td>2020-09-24 11:57:36 UTC</td>\n",
       "      <td>view</td>\n",
       "      <td>3658723</td>\n",
       "      <td>2144415921169498184</td>\n",
       "      <td>NaN</td>\n",
       "      <td>cameronsino</td>\n",
       "      <td>15.87</td>\n",
       "      <td>1515915625510743344</td>\n",
       "      <td>aa4mmk0kwQ</td>\n",
       "    </tr>\n",
       "  </tbody>\n",
       "</table>\n",
       "</div>"
      ],
      "text/plain": [
       "                event_time event_type  product_id          category_id  \\\n",
       "0  2020-09-24 11:57:06 UTC       view     1996170  2144415922528452715   \n",
       "1  2020-09-24 11:57:26 UTC       view      139905  2144415926932472027   \n",
       "2  2020-09-24 11:57:27 UTC       view      215454  2144415927158964449   \n",
       "3  2020-09-24 11:57:33 UTC       view      635807  2144415923107266682   \n",
       "4  2020-09-24 11:57:36 UTC       view     3658723  2144415921169498184   \n",
       "\n",
       "                   category_code        brand   price              user_id  \\\n",
       "0          electronics.telephone          NaN   31.90  1515915625519388267   \n",
       "1    computers.components.cooler       zalman   17.16  1515915625519380411   \n",
       "2                            NaN          NaN    9.81  1515915625513238515   \n",
       "3  computers.peripherals.printer       pantum  113.81  1515915625519014356   \n",
       "4                            NaN  cameronsino   15.87  1515915625510743344   \n",
       "\n",
       "  user_session  \n",
       "0   LJuJVLEjPT  \n",
       "1   tdicluNnRY  \n",
       "2   4TMArHtXQy  \n",
       "3   aGFYrNgC08  \n",
       "4   aa4mmk0kwQ  "
      ]
     },
     "execution_count": 34,
     "metadata": {},
     "output_type": "execute_result"
    }
   ],
   "source": [
    "data.head()"
   ]
  },
  {
   "cell_type": "markdown",
   "metadata": {},
   "source": [
    "converting \"event_time\" to a DateTime object"
   ]
  },
  {
   "cell_type": "code",
   "execution_count": 35,
   "metadata": {},
   "outputs": [],
   "source": [
    "data['event_time'] = pd.to_datetime(data['event_time'])"
   ]
  },
  {
   "cell_type": "code",
   "execution_count": 36,
   "metadata": {},
   "outputs": [
    {
     "name": "stdout",
     "output_type": "stream",
     "text": [
      "<class 'pandas.core.frame.DataFrame'>\n",
      "RangeIndex: 885129 entries, 0 to 885128\n",
      "Data columns (total 9 columns):\n",
      " #   Column         Non-Null Count   Dtype              \n",
      "---  ------         --------------   -----              \n",
      " 0   event_time     885129 non-null  datetime64[ns, UTC]\n",
      " 1   event_type     885129 non-null  object             \n",
      " 2   product_id     885129 non-null  int64              \n",
      " 3   category_id    885129 non-null  int64              \n",
      " 4   category_code  648910 non-null  object             \n",
      " 5   brand          672765 non-null  object             \n",
      " 6   price          885129 non-null  float64            \n",
      " 7   user_id        885129 non-null  int64              \n",
      " 8   user_session   884964 non-null  object             \n",
      "dtypes: datetime64[ns, UTC](1), float64(1), int64(3), object(4)\n",
      "memory usage: 60.8+ MB\n"
     ]
    }
   ],
   "source": [
    "data.info()"
   ]
  },
  {
   "cell_type": "markdown",
   "metadata": {},
   "source": [
    "calculating the null values"
   ]
  },
  {
   "cell_type": "code",
   "execution_count": 37,
   "metadata": {},
   "outputs": [
    {
     "data": {
      "text/plain": [
       "np.float64(5.633177637258399)"
      ]
     },
     "execution_count": 37,
     "metadata": {},
     "output_type": "execute_result"
    }
   ],
   "source": [
    "(data.isnull().sum().sum()/(data.shape[0]*data.shape[1]))*100"
   ]
  },
  {
   "cell_type": "markdown",
   "metadata": {},
   "source": [
    "total number of rows before removing the null values"
   ]
  },
  {
   "cell_type": "code",
   "execution_count": 38,
   "metadata": {},
   "outputs": [
    {
     "data": {
      "text/plain": [
       "885129"
      ]
     },
     "execution_count": 38,
     "metadata": {},
     "output_type": "execute_result"
    }
   ],
   "source": [
    "data.shape[0]"
   ]
  },
  {
   "cell_type": "markdown",
   "metadata": {},
   "source": [
    "Statistical summary for numerical columns"
   ]
  },
  {
   "cell_type": "code",
   "execution_count": 39,
   "metadata": {},
   "outputs": [
    {
     "name": "stdout",
     "output_type": "stream",
     "text": [
      "Numerical Columns Summary:\n",
      "          product_id   category_id          price       user_id\n",
      "count  8.851290e+05  8.851290e+05  885129.000000  8.851290e+05\n",
      "mean   1.906621e+06  2.144423e+18     146.328713  1.515916e+18\n",
      "std    1.458708e+06  6.165105e+14     296.807683  3.554165e+07\n",
      "min    1.020000e+02  2.144416e+18       0.220000  1.515916e+18\n",
      "25%    6.988030e+05  2.144416e+18      26.460000  1.515916e+18\n",
      "50%    1.452883e+06  2.144416e+18      65.710000  1.515916e+18\n",
      "75%    3.721194e+06  2.144416e+18     190.490000  1.515916e+18\n",
      "max    4.183880e+06  2.227847e+18   64771.060000  1.515916e+18\n"
     ]
    }
   ],
   "source": [
    "# \"Numerical Columns Summary:\\n\", data.describe()\n",
    "print(\"Numerical Columns Summary:\\n\", data.describe())"
   ]
  },
  {
   "cell_type": "markdown",
   "metadata": {},
   "source": [
    "Statistical summary for categorical columns"
   ]
  },
  {
   "cell_type": "code",
   "execution_count": 40,
   "metadata": {},
   "outputs": [
    {
     "name": "stdout",
     "output_type": "stream",
     "text": [
      "\n",
      "Column: brand\n",
      "Unique Values: 999\n",
      "Value Counts:\n",
      " brand\n",
      "asus        27706\n",
      "gigabyte    27673\n",
      "msi         24877\n",
      "palit       24802\n",
      "samsung     23208\n",
      "            ...  \n",
      "pozitiv         1\n",
      "maxwell         1\n",
      "beward          1\n",
      "leomax          1\n",
      "cassida         1\n",
      "Name: count, Length: 999, dtype: int64\n",
      "\n",
      "Column: category_code\n",
      "Unique Values: 107\n",
      "Value Counts:\n",
      " category_code\n",
      "computers.components.videocards     116717\n",
      "electronics.telephone                84360\n",
      "computers.peripherals.printer        43224\n",
      "stationery.cartrige                  38725\n",
      "electronics.audio.acoustic           26766\n",
      "                                     ...  \n",
      "furniture.bedroom.blanket               26\n",
      "appliances.kitchen.refrigerators        15\n",
      "furniture.kitchen.chair                 15\n",
      "accessories.briefcase                   13\n",
      "auto.accessories.winch                   6\n",
      "Name: count, Length: 107, dtype: int64\n"
     ]
    }
   ],
   "source": [
    "categorical_columns = ['brand', 'category_code']\n",
    "for col in categorical_columns:\n",
    "    print(f\"\\nColumn: {col}\")\n",
    "    print(\"Unique Values:\", data[col].nunique()) # unique values count\n",
    "    print(\"Value Counts:\\n\", data[col].value_counts()) # each value frequency"
   ]
  },
  {
   "cell_type": "code",
   "execution_count": 41,
   "metadata": {},
   "outputs": [
    {
     "data": {
      "text/plain": [
       "event_time            0\n",
       "event_type            0\n",
       "product_id            0\n",
       "category_id           0\n",
       "category_code    236219\n",
       "brand            212364\n",
       "price                 0\n",
       "user_id               0\n",
       "user_session        165\n",
       "dtype: int64"
      ]
     },
     "execution_count": 41,
     "metadata": {},
     "output_type": "execute_result"
    }
   ],
   "source": [
    "# Check for missing data\n",
    "missing_data = data.isnull().sum()\n",
    "missing_data"
   ]
  },
  {
   "cell_type": "code",
   "execution_count": 42,
   "metadata": {},
   "outputs": [
    {
     "data": {
      "image/png": "[encoded data removed]",
      "text/plain": [
       "<Figure size 400x400 with 1 Axes>"
      ]
     },
     "metadata": {},
     "output_type": "display_data"
    }
   ],
   "source": [
    "\n",
    "\n",
    "# Visualize missing data using a heatmap\n",
    "plt.figure(figsize=(4, 4))\n",
    "sns.heatmap(data.isnull(), cbar=False)\n",
    "plt.title('Missing Data Heatmap')\n",
    "plt.show()"
   ]
  },
  {
   "cell_type": "code",
   "execution_count": 43,
   "metadata": {},
   "outputs": [
    {
     "data": {
      "image/png": "[encoded data removed]",
      "text/plain": [
       "<Figure size 400x400 with 1 Axes>"
      ]
     },
     "metadata": {},
     "output_type": "display_data"
    }
   ],
   "source": [
    "# Visualize missing data using a bar chart\n",
    "plt.figure(figsize=(4,4))\n",
    "missing_data.plot(kind='bar', color='skyblue')\n",
    "plt.title('Missing Data Bar Chart')\n",
    "plt.ylabel('Number of Missing Values')\n",
    "plt.show()"
   ]
  },
  {
   "cell_type": "code",
   "execution_count": 44,
   "metadata": {},
   "outputs": [
    {
     "name": "stdout",
     "output_type": "stream",
     "text": [
      "Columns with the most missing values:\n",
      "category_code    236219\n",
      "brand            212364\n",
      "user_session        165\n",
      "dtype: int64\n"
     ]
    }
   ],
   "source": [
    "# Identify columns with the most missing values\n",
    "print(\"Columns with the most missing values:\")\n",
    "print(missing_data[missing_data > 0].sort_values(ascending=False))"
   ]
  },
  {
   "cell_type": "code",
   "execution_count": 45,
   "metadata": {},
   "outputs": [
    {
     "data": {
      "text/plain": [
       "event_time        0.000000\n",
       "event_type        0.000000\n",
       "product_id        0.000000\n",
       "category_id       0.000000\n",
       "category_code    26.687522\n",
       "brand            23.992435\n",
       "price             0.000000\n",
       "user_id           0.000000\n",
       "user_session      0.018641\n",
       "dtype: float64"
      ]
     },
     "execution_count": 45,
     "metadata": {},
     "output_type": "execute_result"
    }
   ],
   "source": [
    "(data.isnull().sum()/data.shape[0])*100"
   ]
  },
  {
   "cell_type": "markdown",
   "metadata": {},
   "source": [
    "Total null values percentage in \"category_code,brand,user_session\" columns/features is less than 50% so we can delete the rows which having nullvalues \n",
    "\n",
    "category_code = 26.7% null values\n",
    "brand = 23.9% null values\n",
    "user_session = 0.018 % null values\n",
    "\n",
    "and total dataset contains the 5.63 % null values so we can delete them all"
   ]
  },
  {
   "cell_type": "markdown",
   "metadata": {},
   "source": [
    "removing null values"
   ]
  },
  {
   "cell_type": "code",
   "execution_count": 46,
   "metadata": {},
   "outputs": [],
   "source": [
    "data.dropna(inplace=True)"
   ]
  },
  {
   "cell_type": "markdown",
   "metadata": {},
   "source": [
    "totaly we removed 41% rows from the actual dataset for removing the null values"
   ]
  },
  {
   "cell_type": "code",
   "execution_count": 47,
   "metadata": {},
   "outputs": [
    {
     "data": {
      "text/plain": [
       "516256"
      ]
     },
     "execution_count": 47,
     "metadata": {},
     "output_type": "execute_result"
    }
   ],
   "source": [
    "data.shape[0]"
   ]
  },
  {
   "cell_type": "code",
   "execution_count": 48,
   "metadata": {},
   "outputs": [
    {
     "data": {
      "text/plain": [
       "<Axes: xlabel='event_type', ylabel='count'>"
      ]
     },
     "execution_count": 48,
     "metadata": {},
     "output_type": "execute_result"
    },
    {
     "data": {
      "image/png": "[encoded data removed]",
      "text/plain": [
       "<Figure size 640x480 with 1 Axes>"
      ]
     },
     "metadata": {},
     "output_type": "display_data"
    }
   ],
   "source": [
    "sns.countplot(x='event_type', data=data)"
   ]
  },
  {
   "cell_type": "markdown",
   "metadata": {},
   "source": []
  },
  {
   "cell_type": "code",
   "execution_count": 49,
   "metadata": {},
   "outputs": [],
   "source": [
    "user_activity = data.groupby('user_id').agg({\n",
    "    'event_time': ['max', 'min', 'count'],  # Last activity, first activity, total activits\n",
    "    'event_type': lambda x: (x == 'purchase').sum(),  # Count purchases\n",
    "    'price': ['mean', 'sum'],  # Average and total spending\n",
    "    'brand': lambda x: ','.join(x.dropna().unique())  # List all unique brands visited\n",
    "})\n"
   ]
  },
  {
   "cell_type": "code",
   "execution_count": 50,
   "metadata": {},
   "outputs": [],
   "source": [
    "user_activity['most_viewed_brand'] = data.groupby('user_id')['brand'].agg(lambda x: x.mode().iloc[0])"
   ]
  },
  {
   "cell_type": "code",
   "execution_count": 51,
   "metadata": {},
   "outputs": [],
   "source": [
    "user_activity.columns = ['_'.join(col).strip() for col in user_activity.columns]"
   ]
  },
  {
   "cell_type": "code",
   "execution_count": 52,
   "metadata": {},
   "outputs": [],
   "source": [
    "# Calculate days since last activity\n",
    "latest_event_time = data['event_time'].max()\n",
    "user_activity['days_since_last_event'] = (latest_event_time - user_activity['event_time_max']).dt.days"
   ]
  },
  {
   "cell_type": "code",
   "execution_count": 53,
   "metadata": {},
   "outputs": [
    {
     "data": {
      "text/plain": [
       "224971"
      ]
     },
     "execution_count": 53,
     "metadata": {},
     "output_type": "execute_result"
    }
   ],
   "source": [
    "user_activity.shape[0]"
   ]
  },
  {
   "cell_type": "markdown",
   "metadata": {},
   "source": [
    "So,Totaly we have 224971 users"
   ]
  },
  {
   "cell_type": "code",
   "execution_count": 54,
   "metadata": {},
   "outputs": [
    {
     "data": {
      "text/html": [
       "<div>\n",
       "<style scoped>\n",
       "    .dataframe tbody tr th:only-of-type {\n",
       "        vertical-align: middle;\n",
       "    }\n",
       "\n",
       "    .dataframe tbody tr th {\n",
       "        vertical-align: top;\n",
       "    }\n",
       "\n",
       "    .dataframe thead th {\n",
       "        text-align: right;\n",
       "    }\n",
       "</style>\n",
       "<table border=\"1\" class=\"dataframe\">\n",
       "  <thead>\n",
       "    <tr style=\"text-align: right;\">\n",
       "      <th></th>\n",
       "      <th>event_time_max</th>\n",
       "      <th>event_time_min</th>\n",
       "      <th>event_time_count</th>\n",
       "      <th>event_type_&lt;lambda&gt;</th>\n",
       "      <th>price_mean</th>\n",
       "      <th>price_sum</th>\n",
       "      <th>brand_&lt;lambda&gt;</th>\n",
       "      <th>most_viewed_brand_</th>\n",
       "      <th>days_since_last_event</th>\n",
       "    </tr>\n",
       "    <tr>\n",
       "      <th>user_id</th>\n",
       "      <th></th>\n",
       "      <th></th>\n",
       "      <th></th>\n",
       "      <th></th>\n",
       "      <th></th>\n",
       "      <th></th>\n",
       "      <th></th>\n",
       "      <th></th>\n",
       "      <th></th>\n",
       "    </tr>\n",
       "  </thead>\n",
       "  <tbody>\n",
       "    <tr>\n",
       "      <th>1515915625353226922</th>\n",
       "      <td>2020-10-29 11:28:35+00:00</td>\n",
       "      <td>2020-10-29 11:28:35+00:00</td>\n",
       "      <td>1</td>\n",
       "      <td>0</td>\n",
       "      <td>76.480000</td>\n",
       "      <td>76.48</td>\n",
       "      <td>honor</td>\n",
       "      <td>honor</td>\n",
       "      <td>122</td>\n",
       "    </tr>\n",
       "    <tr>\n",
       "      <th>1515915625353230683</th>\n",
       "      <td>2020-12-12 10:33:09+00:00</td>\n",
       "      <td>2020-11-09 08:52:51+00:00</td>\n",
       "      <td>13</td>\n",
       "      <td>0</td>\n",
       "      <td>62.686923</td>\n",
       "      <td>814.93</td>\n",
       "      <td>logitech,dell,smartbuy,sven,bbk,perfeo,canyon,...</td>\n",
       "      <td>creative</td>\n",
       "      <td>78</td>\n",
       "    </tr>\n",
       "    <tr>\n",
       "      <th>1515915625353230922</th>\n",
       "      <td>2020-10-02 08:23:40+00:00</td>\n",
       "      <td>2020-10-02 08:23:40+00:00</td>\n",
       "      <td>1</td>\n",
       "      <td>0</td>\n",
       "      <td>274.400000</td>\n",
       "      <td>274.40</td>\n",
       "      <td>msi</td>\n",
       "      <td>msi</td>\n",
       "      <td>149</td>\n",
       "    </tr>\n",
       "    <tr>\n",
       "      <th>1515915625353234047</th>\n",
       "      <td>2021-02-18 09:11:44+00:00</td>\n",
       "      <td>2020-09-29 16:01:54+00:00</td>\n",
       "      <td>35</td>\n",
       "      <td>0</td>\n",
       "      <td>156.220286</td>\n",
       "      <td>5467.71</td>\n",
       "      <td>honor,samsung,sennheiser,steelseries,sony,hoco...</td>\n",
       "      <td>samsung</td>\n",
       "      <td>10</td>\n",
       "    </tr>\n",
       "    <tr>\n",
       "      <th>1515915625353236157</th>\n",
       "      <td>2021-02-11 15:50:40+00:00</td>\n",
       "      <td>2021-02-11 15:50:40+00:00</td>\n",
       "      <td>1</td>\n",
       "      <td>0</td>\n",
       "      <td>52.490000</td>\n",
       "      <td>52.49</td>\n",
       "      <td>ritmix</td>\n",
       "      <td>ritmix</td>\n",
       "      <td>17</td>\n",
       "    </tr>\n",
       "  </tbody>\n",
       "</table>\n",
       "</div>"
      ],
      "text/plain": [
       "                               event_time_max            event_time_min  \\\n",
       "user_id                                                                   \n",
       "1515915625353226922 2020-10-29 11:28:35+00:00 2020-10-29 11:28:35+00:00   \n",
       "1515915625353230683 2020-12-12 10:33:09+00:00 2020-11-09 08:52:51+00:00   \n",
       "1515915625353230922 2020-10-02 08:23:40+00:00 2020-10-02 08:23:40+00:00   \n",
       "1515915625353234047 2021-02-18 09:11:44+00:00 2020-09-29 16:01:54+00:00   \n",
       "1515915625353236157 2021-02-11 15:50:40+00:00 2021-02-11 15:50:40+00:00   \n",
       "\n",
       "                     event_time_count  event_type_<lambda>  price_mean  \\\n",
       "user_id                                                                  \n",
       "1515915625353226922                 1                    0   76.480000   \n",
       "1515915625353230683                13                    0   62.686923   \n",
       "1515915625353230922                 1                    0  274.400000   \n",
       "1515915625353234047                35                    0  156.220286   \n",
       "1515915625353236157                 1                    0   52.490000   \n",
       "\n",
       "                     price_sum  \\\n",
       "user_id                          \n",
       "1515915625353226922      76.48   \n",
       "1515915625353230683     814.93   \n",
       "1515915625353230922     274.40   \n",
       "1515915625353234047    5467.71   \n",
       "1515915625353236157      52.49   \n",
       "\n",
       "                                                        brand_<lambda>  \\\n",
       "user_id                                                                  \n",
       "1515915625353226922                                              honor   \n",
       "1515915625353230683  logitech,dell,smartbuy,sven,bbk,perfeo,canyon,...   \n",
       "1515915625353230922                                                msi   \n",
       "1515915625353234047  honor,samsung,sennheiser,steelseries,sony,hoco...   \n",
       "1515915625353236157                                             ritmix   \n",
       "\n",
       "                    most_viewed_brand_  days_since_last_event  \n",
       "user_id                                                        \n",
       "1515915625353226922              honor                    122  \n",
       "1515915625353230683           creative                     78  \n",
       "1515915625353230922                msi                    149  \n",
       "1515915625353234047            samsung                     10  \n",
       "1515915625353236157             ritmix                     17  "
      ]
     },
     "execution_count": 54,
     "metadata": {},
     "output_type": "execute_result"
    }
   ],
   "source": [
    "user_activity.head()"
   ]
  },
  {
   "cell_type": "code",
   "execution_count": 55,
   "metadata": {},
   "outputs": [
    {
     "name": "stdout",
     "output_type": "stream",
     "text": [
      "\n",
      "Top 10 Users by Number of Brands Visited:\n",
      "                                                        brand_<lambda>  \\\n",
      "user_id                                                                  \n",
      "1515915625598794428  jvc,bbk,bq,hyundai,mobilepc,sirius,epson,ark,a...   \n",
      "1515915625599852988  sapphire,msi,amd,asrock,gigabyte,asus,pccooler...   \n",
      "1515915625591659523  asus,amd,intel,asrock,msi,gigabyte,sapphire,pa...   \n",
      "1515915625601221143  gigabyte,sapphire,thermaltake,id-cooling,pccoo...   \n",
      "1515915625475084289  samsung,epson,canon,kyocera,thomson,panasonic,...   \n",
      "1515915625596223978  amd,thermaltake,chieftec,cougar,crown,hiper,ph...   \n",
      "1515915625536567608  sapphire,msi,gigabyte,amd,thermaltake,seagate,...   \n",
      "1515915625360775587  keenetic,mikrotik,accord,thermaltake,aerocool,...   \n",
      "1515915625604175669  asus,harper,nzxt,id-cooling,aerocool,thermalta...   \n",
      "1515915625544171483  msi,amd,asrock,cougar,ginzzu,crown,gigabyte,in...   \n",
      "\n",
      "                     brand_count  \n",
      "user_id                           \n",
      "1515915625598794428           41  \n",
      "1515915625599852988           35  \n",
      "1515915625591659523           34  \n",
      "1515915625601221143           33  \n",
      "1515915625475084289           23  \n",
      "1515915625596223978           21  \n",
      "1515915625536567608           21  \n",
      "1515915625360775587           21  \n",
      "1515915625604175669           20  \n",
      "1515915625544171483           20  \n"
     ]
    }
   ],
   "source": [
    "# Count of Brands in 'brand_<lambda>' column\n",
    "user_activity['brand_count'] = user_activity['brand_<lambda>'].apply(lambda x: len(x.split(',')))\n",
    "print(\"\\nTop 10 Users by Number of Brands Visited:\")\n",
    "print(user_activity[['brand_<lambda>', 'brand_count']].sort_values(by='brand_count', ascending=False).head(10))\n"
   ]
  },
  {
   "cell_type": "markdown",
   "metadata": {},
   "source": [
    "Let's find that the user is churn or not \n",
    "note: user is churn if the days since last event is greater then 30 days"
   ]
  },
  {
   "cell_type": "code",
   "execution_count": 56,
   "metadata": {},
   "outputs": [],
   "source": [
    "# Label churn\n",
    "user_activity['churn'] = (user_activity['days_since_last_event'] > 30).astype(int)"
   ]
  },
  {
   "cell_type": "code",
   "execution_count": 57,
   "metadata": {},
   "outputs": [],
   "source": [
    "user_activity = user_activity.reset_index()"
   ]
  },
  {
   "cell_type": "code",
   "execution_count": 58,
   "metadata": {},
   "outputs": [
    {
     "data": {
      "text/html": [
       "<div>\n",
       "<style scoped>\n",
       "    .dataframe tbody tr th:only-of-type {\n",
       "        vertical-align: middle;\n",
       "    }\n",
       "\n",
       "    .dataframe tbody tr th {\n",
       "        vertical-align: top;\n",
       "    }\n",
       "\n",
       "    .dataframe thead th {\n",
       "        text-align: right;\n",
       "    }\n",
       "</style>\n",
       "<table border=\"1\" class=\"dataframe\">\n",
       "  <thead>\n",
       "    <tr style=\"text-align: right;\">\n",
       "      <th></th>\n",
       "      <th>user_id</th>\n",
       "      <th>event_time_max</th>\n",
       "      <th>event_time_min</th>\n",
       "      <th>event_time_count</th>\n",
       "      <th>event_type_&lt;lambda&gt;</th>\n",
       "      <th>price_mean</th>\n",
       "      <th>price_sum</th>\n",
       "      <th>brand_&lt;lambda&gt;</th>\n",
       "      <th>most_viewed_brand_</th>\n",
       "      <th>days_since_last_event</th>\n",
       "      <th>brand_count</th>\n",
       "      <th>churn</th>\n",
       "    </tr>\n",
       "  </thead>\n",
       "  <tbody>\n",
       "    <tr>\n",
       "      <th>0</th>\n",
       "      <td>1515915625353226922</td>\n",
       "      <td>2020-10-29 11:28:35+00:00</td>\n",
       "      <td>2020-10-29 11:28:35+00:00</td>\n",
       "      <td>1</td>\n",
       "      <td>0</td>\n",
       "      <td>76.480000</td>\n",
       "      <td>76.48</td>\n",
       "      <td>honor</td>\n",
       "      <td>honor</td>\n",
       "      <td>122</td>\n",
       "      <td>1</td>\n",
       "      <td>1</td>\n",
       "    </tr>\n",
       "    <tr>\n",
       "      <th>1</th>\n",
       "      <td>1515915625353230683</td>\n",
       "      <td>2020-12-12 10:33:09+00:00</td>\n",
       "      <td>2020-11-09 08:52:51+00:00</td>\n",
       "      <td>13</td>\n",
       "      <td>0</td>\n",
       "      <td>62.686923</td>\n",
       "      <td>814.93</td>\n",
       "      <td>logitech,dell,smartbuy,sven,bbk,perfeo,canyon,...</td>\n",
       "      <td>creative</td>\n",
       "      <td>78</td>\n",
       "      <td>9</td>\n",
       "      <td>1</td>\n",
       "    </tr>\n",
       "    <tr>\n",
       "      <th>2</th>\n",
       "      <td>1515915625353230922</td>\n",
       "      <td>2020-10-02 08:23:40+00:00</td>\n",
       "      <td>2020-10-02 08:23:40+00:00</td>\n",
       "      <td>1</td>\n",
       "      <td>0</td>\n",
       "      <td>274.400000</td>\n",
       "      <td>274.40</td>\n",
       "      <td>msi</td>\n",
       "      <td>msi</td>\n",
       "      <td>149</td>\n",
       "      <td>1</td>\n",
       "      <td>1</td>\n",
       "    </tr>\n",
       "    <tr>\n",
       "      <th>3</th>\n",
       "      <td>1515915625353234047</td>\n",
       "      <td>2021-02-18 09:11:44+00:00</td>\n",
       "      <td>2020-09-29 16:01:54+00:00</td>\n",
       "      <td>35</td>\n",
       "      <td>0</td>\n",
       "      <td>156.220286</td>\n",
       "      <td>5467.71</td>\n",
       "      <td>honor,samsung,sennheiser,steelseries,sony,hoco...</td>\n",
       "      <td>samsung</td>\n",
       "      <td>10</td>\n",
       "      <td>7</td>\n",
       "      <td>0</td>\n",
       "    </tr>\n",
       "    <tr>\n",
       "      <th>4</th>\n",
       "      <td>1515915625353236157</td>\n",
       "      <td>2021-02-11 15:50:40+00:00</td>\n",
       "      <td>2021-02-11 15:50:40+00:00</td>\n",
       "      <td>1</td>\n",
       "      <td>0</td>\n",
       "      <td>52.490000</td>\n",
       "      <td>52.49</td>\n",
       "      <td>ritmix</td>\n",
       "      <td>ritmix</td>\n",
       "      <td>17</td>\n",
       "      <td>1</td>\n",
       "      <td>0</td>\n",
       "    </tr>\n",
       "  </tbody>\n",
       "</table>\n",
       "</div>"
      ],
      "text/plain": [
       "               user_id            event_time_max            event_time_min  \\\n",
       "0  1515915625353226922 2020-10-29 11:28:35+00:00 2020-10-29 11:28:35+00:00   \n",
       "1  1515915625353230683 2020-12-12 10:33:09+00:00 2020-11-09 08:52:51+00:00   \n",
       "2  1515915625353230922 2020-10-02 08:23:40+00:00 2020-10-02 08:23:40+00:00   \n",
       "3  1515915625353234047 2021-02-18 09:11:44+00:00 2020-09-29 16:01:54+00:00   \n",
       "4  1515915625353236157 2021-02-11 15:50:40+00:00 2021-02-11 15:50:40+00:00   \n",
       "\n",
       "   event_time_count  event_type_<lambda>  price_mean  price_sum  \\\n",
       "0                 1                    0   76.480000      76.48   \n",
       "1                13                    0   62.686923     814.93   \n",
       "2                 1                    0  274.400000     274.40   \n",
       "3                35                    0  156.220286    5467.71   \n",
       "4                 1                    0   52.490000      52.49   \n",
       "\n",
       "                                      brand_<lambda> most_viewed_brand_  \\\n",
       "0                                              honor              honor   \n",
       "1  logitech,dell,smartbuy,sven,bbk,perfeo,canyon,...           creative   \n",
       "2                                                msi                msi   \n",
       "3  honor,samsung,sennheiser,steelseries,sony,hoco...            samsung   \n",
       "4                                             ritmix             ritmix   \n",
       "\n",
       "   days_since_last_event  brand_count  churn  \n",
       "0                    122            1      1  \n",
       "1                     78            9      1  \n",
       "2                    149            1      1  \n",
       "3                     10            7      0  \n",
       "4                     17            1      0  "
      ]
     },
     "execution_count": 58,
     "metadata": {},
     "output_type": "execute_result"
    }
   ],
   "source": [
    "user_activity.head()"
   ]
  },
  {
   "cell_type": "code",
   "execution_count": 59,
   "metadata": {},
   "outputs": [],
   "source": [
    "df=pd.DataFrame(user_activity.drop(columns=['brand_<lambda>','event_time_max','event_time_min']))"
   ]
  },
  {
   "cell_type": "code",
   "execution_count": 60,
   "metadata": {},
   "outputs": [
    {
     "data": {
      "text/html": [
       "<div>\n",
       "<style scoped>\n",
       "    .dataframe tbody tr th:only-of-type {\n",
       "        vertical-align: middle;\n",
       "    }\n",
       "\n",
       "    .dataframe tbody tr th {\n",
       "        vertical-align: top;\n",
       "    }\n",
       "\n",
       "    .dataframe thead th {\n",
       "        text-align: right;\n",
       "    }\n",
       "</style>\n",
       "<table border=\"1\" class=\"dataframe\">\n",
       "  <thead>\n",
       "    <tr style=\"text-align: right;\">\n",
       "      <th></th>\n",
       "      <th>user_id</th>\n",
       "      <th>event_time_count</th>\n",
       "      <th>event_type_&lt;lambda&gt;</th>\n",
       "      <th>price_mean</th>\n",
       "      <th>price_sum</th>\n",
       "      <th>most_viewed_brand_</th>\n",
       "      <th>days_since_last_event</th>\n",
       "      <th>brand_count</th>\n",
       "      <th>churn</th>\n",
       "    </tr>\n",
       "  </thead>\n",
       "  <tbody>\n",
       "    <tr>\n",
       "      <th>0</th>\n",
       "      <td>1515915625353226922</td>\n",
       "      <td>1</td>\n",
       "      <td>0</td>\n",
       "      <td>76.480000</td>\n",
       "      <td>76.48</td>\n",
       "      <td>honor</td>\n",
       "      <td>122</td>\n",
       "      <td>1</td>\n",
       "      <td>1</td>\n",
       "    </tr>\n",
       "    <tr>\n",
       "      <th>1</th>\n",
       "      <td>1515915625353230683</td>\n",
       "      <td>13</td>\n",
       "      <td>0</td>\n",
       "      <td>62.686923</td>\n",
       "      <td>814.93</td>\n",
       "      <td>creative</td>\n",
       "      <td>78</td>\n",
       "      <td>9</td>\n",
       "      <td>1</td>\n",
       "    </tr>\n",
       "    <tr>\n",
       "      <th>2</th>\n",
       "      <td>1515915625353230922</td>\n",
       "      <td>1</td>\n",
       "      <td>0</td>\n",
       "      <td>274.400000</td>\n",
       "      <td>274.40</td>\n",
       "      <td>msi</td>\n",
       "      <td>149</td>\n",
       "      <td>1</td>\n",
       "      <td>1</td>\n",
       "    </tr>\n",
       "    <tr>\n",
       "      <th>3</th>\n",
       "      <td>1515915625353234047</td>\n",
       "      <td>35</td>\n",
       "      <td>0</td>\n",
       "      <td>156.220286</td>\n",
       "      <td>5467.71</td>\n",
       "      <td>samsung</td>\n",
       "      <td>10</td>\n",
       "      <td>7</td>\n",
       "      <td>0</td>\n",
       "    </tr>\n",
       "    <tr>\n",
       "      <th>4</th>\n",
       "      <td>1515915625353236157</td>\n",
       "      <td>1</td>\n",
       "      <td>0</td>\n",
       "      <td>52.490000</td>\n",
       "      <td>52.49</td>\n",
       "      <td>ritmix</td>\n",
       "      <td>17</td>\n",
       "      <td>1</td>\n",
       "      <td>0</td>\n",
       "    </tr>\n",
       "  </tbody>\n",
       "</table>\n",
       "</div>"
      ],
      "text/plain": [
       "               user_id  event_time_count  event_type_<lambda>  price_mean  \\\n",
       "0  1515915625353226922                 1                    0   76.480000   \n",
       "1  1515915625353230683                13                    0   62.686923   \n",
       "2  1515915625353230922                 1                    0  274.400000   \n",
       "3  1515915625353234047                35                    0  156.220286   \n",
       "4  1515915625353236157                 1                    0   52.490000   \n",
       "\n",
       "   price_sum most_viewed_brand_  days_since_last_event  brand_count  churn  \n",
       "0      76.48              honor                    122            1      1  \n",
       "1     814.93           creative                     78            9      1  \n",
       "2     274.40                msi                    149            1      1  \n",
       "3    5467.71            samsung                     10            7      0  \n",
       "4      52.49             ritmix                     17            1      0  "
      ]
     },
     "execution_count": 60,
     "metadata": {},
     "output_type": "execute_result"
    }
   ],
   "source": [
    "df.head()"
   ]
  },
  {
   "cell_type": "code",
   "execution_count": 61,
   "metadata": {},
   "outputs": [],
   "source": [
    "from sklearn.preprocessing import LabelEncoder"
   ]
  },
  {
   "cell_type": "code",
   "execution_count": 63,
   "metadata": {},
   "outputs": [],
   "source": [
    "le_most_viewed_brand_=LabelEncoder()\n",
    "df['most_viewed_brand_']=le_most_viewed_brand_.fit_transform(df['most_viewed_brand_'])"
   ]
  },
  {
   "cell_type": "code",
   "execution_count": 64,
   "metadata": {},
   "outputs": [
    {
     "data": {
      "text/html": [
       "<div>\n",
       "<style scoped>\n",
       "    .dataframe tbody tr th:only-of-type {\n",
       "        vertical-align: middle;\n",
       "    }\n",
       "\n",
       "    .dataframe tbody tr th {\n",
       "        vertical-align: top;\n",
       "    }\n",
       "\n",
       "    .dataframe thead th {\n",
       "        text-align: right;\n",
       "    }\n",
       "</style>\n",
       "<table border=\"1\" class=\"dataframe\">\n",
       "  <thead>\n",
       "    <tr style=\"text-align: right;\">\n",
       "      <th></th>\n",
       "      <th>user_id</th>\n",
       "      <th>event_time_count</th>\n",
       "      <th>event_type_&lt;lambda&gt;</th>\n",
       "      <th>price_mean</th>\n",
       "      <th>price_sum</th>\n",
       "      <th>most_viewed_brand_</th>\n",
       "      <th>days_since_last_event</th>\n",
       "      <th>brand_count</th>\n",
       "      <th>churn</th>\n",
       "    </tr>\n",
       "  </thead>\n",
       "  <tbody>\n",
       "    <tr>\n",
       "      <th>0</th>\n",
       "      <td>1515915625353226922</td>\n",
       "      <td>1</td>\n",
       "      <td>0</td>\n",
       "      <td>76.480000</td>\n",
       "      <td>76.48</td>\n",
       "      <td>258</td>\n",
       "      <td>122</td>\n",
       "      <td>1</td>\n",
       "      <td>1</td>\n",
       "    </tr>\n",
       "    <tr>\n",
       "      <th>1</th>\n",
       "      <td>1515915625353230683</td>\n",
       "      <td>13</td>\n",
       "      <td>0</td>\n",
       "      <td>62.686923</td>\n",
       "      <td>814.93</td>\n",
       "      <td>129</td>\n",
       "      <td>78</td>\n",
       "      <td>9</td>\n",
       "      <td>1</td>\n",
       "    </tr>\n",
       "    <tr>\n",
       "      <th>2</th>\n",
       "      <td>1515915625353230922</td>\n",
       "      <td>1</td>\n",
       "      <td>0</td>\n",
       "      <td>274.400000</td>\n",
       "      <td>274.40</td>\n",
       "      <td>419</td>\n",
       "      <td>149</td>\n",
       "      <td>1</td>\n",
       "      <td>1</td>\n",
       "    </tr>\n",
       "    <tr>\n",
       "      <th>3</th>\n",
       "      <td>1515915625353234047</td>\n",
       "      <td>35</td>\n",
       "      <td>0</td>\n",
       "      <td>156.220286</td>\n",
       "      <td>5467.71</td>\n",
       "      <td>549</td>\n",
       "      <td>10</td>\n",
       "      <td>7</td>\n",
       "      <td>0</td>\n",
       "    </tr>\n",
       "    <tr>\n",
       "      <th>4</th>\n",
       "      <td>1515915625353236157</td>\n",
       "      <td>1</td>\n",
       "      <td>0</td>\n",
       "      <td>52.490000</td>\n",
       "      <td>52.49</td>\n",
       "      <td>532</td>\n",
       "      <td>17</td>\n",
       "      <td>1</td>\n",
       "      <td>0</td>\n",
       "    </tr>\n",
       "  </tbody>\n",
       "</table>\n",
       "</div>"
      ],
      "text/plain": [
       "               user_id  event_time_count  event_type_<lambda>  price_mean  \\\n",
       "0  1515915625353226922                 1                    0   76.480000   \n",
       "1  1515915625353230683                13                    0   62.686923   \n",
       "2  1515915625353230922                 1                    0  274.400000   \n",
       "3  1515915625353234047                35                    0  156.220286   \n",
       "4  1515915625353236157                 1                    0   52.490000   \n",
       "\n",
       "   price_sum  most_viewed_brand_  days_since_last_event  brand_count  churn  \n",
       "0      76.48                 258                    122            1      1  \n",
       "1     814.93                 129                     78            9      1  \n",
       "2     274.40                 419                    149            1      1  \n",
       "3    5467.71                 549                     10            7      0  \n",
       "4      52.49                 532                     17            1      0  "
      ]
     },
     "execution_count": 64,
     "metadata": {},
     "output_type": "execute_result"
    }
   ],
   "source": [
    "df.head()"
   ]
  },
  {
   "cell_type": "code",
   "execution_count": 65,
   "metadata": {},
   "outputs": [],
   "source": [
    "for i in df.columns:\n",
    "    sns.distplot(df[i])\n",
    "    sns.boxplot(x=i,data=df)\n",
    "    plt.show()"
   ]
  },
  {
   "cell_type": "code",
   "execution_count": 68,
   "metadata": {},
   "outputs": [],
   "source": [
    "from sklearn.model_selection import train_test_split\n",
    "X = df.drop(columns=['churn','user_id'])\n",
    "y = df['churn']\n",
    "X_train, X_test, y_train, y_test = train_test_split(X, y, test_size=0.2, random_state=42)\n"
   ]
  },
  {
   "cell_type": "code",
   "execution_count": 69,
   "metadata": {},
   "outputs": [
    {
     "data": {
      "text/html": [
       "<style>#sk-container-id-1 {\n",
       "  /* Definition of color scheme common for light and dark mode */\n",
       "  --sklearn-color-text: #000;\n",
       "  --sklearn-color-text-muted: #666;\n",
       "  --sklearn-color-line: gray;\n",
       "  /* Definition of color scheme for unfitted estimators */\n",
       "  --sklearn-color-unfitted-level-0: #fff5e6;\n",
       "  --sklearn-color-unfitted-level-1: #f6e4d2;\n",
       "  --sklearn-color-unfitted-level-2: #ffe0b3;\n",
       "  --sklearn-color-unfitted-level-3: chocolate;\n",
       "  /* Definition of color scheme for fitted estimators */\n",
       "  --sklearn-color-fitted-level-0: #f0f8ff;\n",
       "  --sklearn-color-fitted-level-1: #d4ebff;\n",
       "  --sklearn-color-fitted-level-2: #b3dbfd;\n",
       "  --sklearn-color-fitted-level-3: cornflowerblue;\n",
       "\n",
       "  /* Specific color for light theme */\n",
       "  --sklearn-color-text-on-default-background: var(--sg-text-color, var(--theme-code-foreground, var(--jp-content-font-color1, black)));\n",
       "  --sklearn-color-background: var(--sg-background-color, var(--theme-background, var(--jp-layout-color0, white)));\n",
       "  --sklearn-color-border-box: var(--sg-text-color, var(--theme-code-foreground, var(--jp-content-font-color1, black)));\n",
       "  --sklearn-color-icon: #696969;\n",
       "\n",
       "  @media (prefers-color-scheme: dark) {\n",
       "    /* Redefinition of color scheme for dark theme */\n",
       "    --sklearn-color-text-on-default-background: var(--sg-text-color, var(--theme-code-foreground, var(--jp-content-font-color1, white)));\n",
       "    --sklearn-color-background: var(--sg-background-color, var(--theme-background, var(--jp-layout-color0, #111)));\n",
       "    --sklearn-color-border-box: var(--sg-text-color, var(--theme-code-foreground, var(--jp-content-font-color1, white)));\n",
       "    --sklearn-color-icon: #878787;\n",
       "  }\n",
       "}\n",
       "\n",
       "#sk-container-id-1 {\n",
       "  color: var(--sklearn-color-text);\n",
       "}\n",
       "\n",
       "#sk-container-id-1 pre {\n",
       "  padding: 0;\n",
       "}\n",
       "\n",
       "#sk-container-id-1 input.sk-hidden--visually {\n",
       "  border: 0;\n",
       "  clip: rect(1px 1px 1px 1px);\n",
       "  clip: rect(1px, 1px, 1px, 1px);\n",
       "  height: 1px;\n",
       "  margin: -1px;\n",
       "  overflow: hidden;\n",
       "  padding: 0;\n",
       "  position: absolute;\n",
       "  width: 1px;\n",
       "}\n",
       "\n",
       "#sk-container-id-1 div.sk-dashed-wrapped {\n",
       "  border: 1px dashed var(--sklearn-color-line);\n",
       "  margin: 0 0.4em 0.5em 0.4em;\n",
       "  box-sizing: border-box;\n",
       "  padding-bottom: 0.4em;\n",
       "  background-color: var(--sklearn-color-background);\n",
       "}\n",
       "\n",
       "#sk-container-id-1 div.sk-container {\n",
       "  /* jupyter's `normalize.less` sets `[hidden] { display: none; }`\n",
       "     but bootstrap.min.css set `[hidden] { display: none !important; }`\n",
       "     so we also need the `!important` here to be able to override the\n",
       "     default hidden behavior on the sphinx rendered scikit-learn.org.\n",
       "     See: https://github.com/scikit-learn/scikit-learn/issues/21755 */\n",
       "  display: inline-block !important;\n",
       "  position: relative;\n",
       "}\n",
       "\n",
       "#sk-container-id-1 div.sk-text-repr-fallback {\n",
       "  display: none;\n",
       "}\n",
       "\n",
       "div.sk-parallel-item,\n",
       "div.sk-serial,\n",
       "div.sk-item {\n",
       "  /* draw centered vertical line to link estimators */\n",
       "  background-image: linear-gradient(var(--sklearn-color-text-on-default-background), var(--sklearn-color-text-on-default-background));\n",
       "  background-size: 2px 100%;\n",
       "  background-repeat: no-repeat;\n",
       "  background-position: center center;\n",
       "}\n",
       "\n",
       "/* Parallel-specific style estimator block */\n",
       "\n",
       "#sk-container-id-1 div.sk-parallel-item::after {\n",
       "  content: \"\";\n",
       "  width: 100%;\n",
       "  border-bottom: 2px solid var(--sklearn-color-text-on-default-background);\n",
       "  flex-grow: 1;\n",
       "}\n",
       "\n",
       "#sk-container-id-1 div.sk-parallel {\n",
       "  display: flex;\n",
       "  align-items: stretch;\n",
       "  justify-content: center;\n",
       "  background-color: var(--sklearn-color-background);\n",
       "  position: relative;\n",
       "}\n",
       "\n",
       "#sk-container-id-1 div.sk-parallel-item {\n",
       "  display: flex;\n",
       "  flex-direction: column;\n",
       "}\n",
       "\n",
       "#sk-container-id-1 div.sk-parallel-item:first-child::after {\n",
       "  align-self: flex-end;\n",
       "  width: 50%;\n",
       "}\n",
       "\n",
       "#sk-container-id-1 div.sk-parallel-item:last-child::after {\n",
       "  align-self: flex-start;\n",
       "  width: 50%;\n",
       "}\n",
       "\n",
       "#sk-container-id-1 div.sk-parallel-item:only-child::after {\n",
       "  width: 0;\n",
       "}\n",
       "\n",
       "/* Serial-specific style estimator block */\n",
       "\n",
       "#sk-container-id-1 div.sk-serial {\n",
       "  display: flex;\n",
       "  flex-direction: column;\n",
       "  align-items: center;\n",
       "  background-color: var(--sklearn-color-background);\n",
       "  padding-right: 1em;\n",
       "  padding-left: 1em;\n",
       "}\n",
       "\n",
       "\n",
       "/* Toggleable style: style used for estimator/Pipeline/ColumnTransformer box that is\n",
       "clickable and can be expanded/collapsed.\n",
       "- Pipeline and ColumnTransformer use this feature and define the default style\n",
       "- Estimators will overwrite some part of the style using the `sk-estimator` class\n",
       "*/\n",
       "\n",
       "/* Pipeline and ColumnTransformer style (default) */\n",
       "\n",
       "#sk-container-id-1 div.sk-toggleable {\n",
       "  /* Default theme specific background. It is overwritten whether we have a\n",
       "  specific estimator or a Pipeline/ColumnTransformer */\n",
       "  background-color: var(--sklearn-color-background);\n",
       "}\n",
       "\n",
       "/* Toggleable label */\n",
       "#sk-container-id-1 label.sk-toggleable__label {\n",
       "  cursor: pointer;\n",
       "  display: flex;\n",
       "  width: 100%;\n",
       "  margin-bottom: 0;\n",
       "  padding: 0.5em;\n",
       "  box-sizing: border-box;\n",
       "  text-align: center;\n",
       "  align-items: start;\n",
       "  justify-content: space-between;\n",
       "  gap: 0.5em;\n",
       "}\n",
       "\n",
       "#sk-container-id-1 label.sk-toggleable__label .caption {\n",
       "  font-size: 0.6rem;\n",
       "  font-weight: lighter;\n",
       "  color: var(--sklearn-color-text-muted);\n",
       "}\n",
       "\n",
       "#sk-container-id-1 label.sk-toggleable__label-arrow:before {\n",
       "  /* Arrow on the left of the label */\n",
       "  content: \"▸\";\n",
       "  float: left;\n",
       "  margin-right: 0.25em;\n",
       "  color: var(--sklearn-color-icon);\n",
       "}\n",
       "\n",
       "#sk-container-id-1 label.sk-toggleable__label-arrow:hover:before {\n",
       "  color: var(--sklearn-color-text);\n",
       "}\n",
       "\n",
       "/* Toggleable content - dropdown */\n",
       "\n",
       "#sk-container-id-1 div.sk-toggleable__content {\n",
       "  max-height: 0;\n",
       "  max-width: 0;\n",
       "  overflow: hidden;\n",
       "  text-align: left;\n",
       "  /* unfitted */\n",
       "  background-color: var(--sklearn-color-unfitted-level-0);\n",
       "}\n",
       "\n",
       "#sk-container-id-1 div.sk-toggleable__content.fitted {\n",
       "  /* fitted */\n",
       "  background-color: var(--sklearn-color-fitted-level-0);\n",
       "}\n",
       "\n",
       "#sk-container-id-1 div.sk-toggleable__content pre {\n",
       "  margin: 0.2em;\n",
       "  border-radius: 0.25em;\n",
       "  color: var(--sklearn-color-text);\n",
       "  /* unfitted */\n",
       "  background-color: var(--sklearn-color-unfitted-level-0);\n",
       "}\n",
       "\n",
       "#sk-container-id-1 div.sk-toggleable__content.fitted pre {\n",
       "  /* unfitted */\n",
       "  background-color: var(--sklearn-color-fitted-level-0);\n",
       "}\n",
       "\n",
       "#sk-container-id-1 input.sk-toggleable__control:checked~div.sk-toggleable__content {\n",
       "  /* Expand drop-down */\n",
       "  max-height: 200px;\n",
       "  max-width: 100%;\n",
       "  overflow: auto;\n",
       "}\n",
       "\n",
       "#sk-container-id-1 input.sk-toggleable__control:checked~label.sk-toggleable__label-arrow:before {\n",
       "  content: \"▾\";\n",
       "}\n",
       "\n",
       "/* Pipeline/ColumnTransformer-specific style */\n",
       "\n",
       "#sk-container-id-1 div.sk-label input.sk-toggleable__control:checked~label.sk-toggleable__label {\n",
       "  color: var(--sklearn-color-text);\n",
       "  background-color: var(--sklearn-color-unfitted-level-2);\n",
       "}\n",
       "\n",
       "#sk-container-id-1 div.sk-label.fitted input.sk-toggleable__control:checked~label.sk-toggleable__label {\n",
       "  background-color: var(--sklearn-color-fitted-level-2);\n",
       "}\n",
       "\n",
       "/* Estimator-specific style */\n",
       "\n",
       "/* Colorize estimator box */\n",
       "#sk-container-id-1 div.sk-estimator input.sk-toggleable__control:checked~label.sk-toggleable__label {\n",
       "  /* unfitted */\n",
       "  background-color: var(--sklearn-color-unfitted-level-2);\n",
       "}\n",
       "\n",
       "#sk-container-id-1 div.sk-estimator.fitted input.sk-toggleable__control:checked~label.sk-toggleable__label {\n",
       "  /* fitted */\n",
       "  background-color: var(--sklearn-color-fitted-level-2);\n",
       "}\n",
       "\n",
       "#sk-container-id-1 div.sk-label label.sk-toggleable__label,\n",
       "#sk-container-id-1 div.sk-label label {\n",
       "  /* The background is the default theme color */\n",
       "  color: var(--sklearn-color-text-on-default-background);\n",
       "}\n",
       "\n",
       "/* On hover, darken the color of the background */\n",
       "#sk-container-id-1 div.sk-label:hover label.sk-toggleable__label {\n",
       "  color: var(--sklearn-color-text);\n",
       "  background-color: var(--sklearn-color-unfitted-level-2);\n",
       "}\n",
       "\n",
       "/* Label box, darken color on hover, fitted */\n",
       "#sk-container-id-1 div.sk-label.fitted:hover label.sk-toggleable__label.fitted {\n",
       "  color: var(--sklearn-color-text);\n",
       "  background-color: var(--sklearn-color-fitted-level-2);\n",
       "}\n",
       "\n",
       "/* Estimator label */\n",
       "\n",
       "#sk-container-id-1 div.sk-label label {\n",
       "  font-family: monospace;\n",
       "  font-weight: bold;\n",
       "  display: inline-block;\n",
       "  line-height: 1.2em;\n",
       "}\n",
       "\n",
       "#sk-container-id-1 div.sk-label-container {\n",
       "  text-align: center;\n",
       "}\n",
       "\n",
       "/* Estimator-specific */\n",
       "#sk-container-id-1 div.sk-estimator {\n",
       "  font-family: monospace;\n",
       "  border: 1px dotted var(--sklearn-color-border-box);\n",
       "  border-radius: 0.25em;\n",
       "  box-sizing: border-box;\n",
       "  margin-bottom: 0.5em;\n",
       "  /* unfitted */\n",
       "  background-color: var(--sklearn-color-unfitted-level-0);\n",
       "}\n",
       "\n",
       "#sk-container-id-1 div.sk-estimator.fitted {\n",
       "  /* fitted */\n",
       "  background-color: var(--sklearn-color-fitted-level-0);\n",
       "}\n",
       "\n",
       "/* on hover */\n",
       "#sk-container-id-1 div.sk-estimator:hover {\n",
       "  /* unfitted */\n",
       "  background-color: var(--sklearn-color-unfitted-level-2);\n",
       "}\n",
       "\n",
       "#sk-container-id-1 div.sk-estimator.fitted:hover {\n",
       "  /* fitted */\n",
       "  background-color: var(--sklearn-color-fitted-level-2);\n",
       "}\n",
       "\n",
       "/* Specification for estimator info (e.g. \"i\" and \"?\") */\n",
       "\n",
       "/* Common style for \"i\" and \"?\" */\n",
       "\n",
       ".sk-estimator-doc-link,\n",
       "a:link.sk-estimator-doc-link,\n",
       "a:visited.sk-estimator-doc-link {\n",
       "  float: right;\n",
       "  font-size: smaller;\n",
       "  line-height: 1em;\n",
       "  font-family: monospace;\n",
       "  background-color: var(--sklearn-color-background);\n",
       "  border-radius: 1em;\n",
       "  height: 1em;\n",
       "  width: 1em;\n",
       "  text-decoration: none !important;\n",
       "  margin-left: 0.5em;\n",
       "  text-align: center;\n",
       "  /* unfitted */\n",
       "  border: var(--sklearn-color-unfitted-level-1) 1pt solid;\n",
       "  color: var(--sklearn-color-unfitted-level-1);\n",
       "}\n",
       "\n",
       ".sk-estimator-doc-link.fitted,\n",
       "a:link.sk-estimator-doc-link.fitted,\n",
       "a:visited.sk-estimator-doc-link.fitted {\n",
       "  /* fitted */\n",
       "  border: var(--sklearn-color-fitted-level-1) 1pt solid;\n",
       "  color: var(--sklearn-color-fitted-level-1);\n",
       "}\n",
       "\n",
       "/* On hover */\n",
       "div.sk-estimator:hover .sk-estimator-doc-link:hover,\n",
       ".sk-estimator-doc-link:hover,\n",
       "div.sk-label-container:hover .sk-estimator-doc-link:hover,\n",
       ".sk-estimator-doc-link:hover {\n",
       "  /* unfitted */\n",
       "  background-color: var(--sklearn-color-unfitted-level-3);\n",
       "  color: var(--sklearn-color-background);\n",
       "  text-decoration: none;\n",
       "}\n",
       "\n",
       "div.sk-estimator.fitted:hover .sk-estimator-doc-link.fitted:hover,\n",
       ".sk-estimator-doc-link.fitted:hover,\n",
       "div.sk-label-container:hover .sk-estimator-doc-link.fitted:hover,\n",
       ".sk-estimator-doc-link.fitted:hover {\n",
       "  /* fitted */\n",
       "  background-color: var(--sklearn-color-fitted-level-3);\n",
       "  color: var(--sklearn-color-background);\n",
       "  text-decoration: none;\n",
       "}\n",
       "\n",
       "/* Span, style for the box shown on hovering the info icon */\n",
       ".sk-estimator-doc-link span {\n",
       "  display: none;\n",
       "  z-index: 9999;\n",
       "  position: relative;\n",
       "  font-weight: normal;\n",
       "  right: .2ex;\n",
       "  padding: .5ex;\n",
       "  margin: .5ex;\n",
       "  width: min-content;\n",
       "  min-width: 20ex;\n",
       "  max-width: 50ex;\n",
       "  color: var(--sklearn-color-text);\n",
       "  box-shadow: 2pt 2pt 4pt #999;\n",
       "  /* unfitted */\n",
       "  background: var(--sklearn-color-unfitted-level-0);\n",
       "  border: .5pt solid var(--sklearn-color-unfitted-level-3);\n",
       "}\n",
       "\n",
       ".sk-estimator-doc-link.fitted span {\n",
       "  /* fitted */\n",
       "  background: var(--sklearn-color-fitted-level-0);\n",
       "  border: var(--sklearn-color-fitted-level-3);\n",
       "}\n",
       "\n",
       ".sk-estimator-doc-link:hover span {\n",
       "  display: block;\n",
       "}\n",
       "\n",
       "/* \"?\"-specific style due to the `<a>` HTML tag */\n",
       "\n",
       "#sk-container-id-1 a.estimator_doc_link {\n",
       "  float: right;\n",
       "  font-size: 1rem;\n",
       "  line-height: 1em;\n",
       "  font-family: monospace;\n",
       "  background-color: var(--sklearn-color-background);\n",
       "  border-radius: 1rem;\n",
       "  height: 1rem;\n",
       "  width: 1rem;\n",
       "  text-decoration: none;\n",
       "  /* unfitted */\n",
       "  color: var(--sklearn-color-unfitted-level-1);\n",
       "  border: var(--sklearn-color-unfitted-level-1) 1pt solid;\n",
       "}\n",
       "\n",
       "#sk-container-id-1 a.estimator_doc_link.fitted {\n",
       "  /* fitted */\n",
       "  border: var(--sklearn-color-fitted-level-1) 1pt solid;\n",
       "  color: var(--sklearn-color-fitted-level-1);\n",
       "}\n",
       "\n",
       "/* On hover */\n",
       "#sk-container-id-1 a.estimator_doc_link:hover {\n",
       "  /* unfitted */\n",
       "  background-color: var(--sklearn-color-unfitted-level-3);\n",
       "  color: var(--sklearn-color-background);\n",
       "  text-decoration: none;\n",
       "}\n",
       "\n",
       "#sk-container-id-1 a.estimator_doc_link.fitted:hover {\n",
       "  /* fitted */\n",
       "  background-color: var(--sklearn-color-fitted-level-3);\n",
       "}\n",
       "</style><div id=\"sk-container-id-1\" class=\"sk-top-container\"><div class=\"sk-text-repr-fallback\"><pre>RandomForestClassifier(random_state=42)</pre><b>In a Jupyter environment, please rerun this cell to show the HTML representation or trust the notebook. <br />On GitHub, the HTML representation is unable to render, please try loading this page with nbviewer.org.</b></div><div class=\"sk-container\" hidden><div class=\"sk-item\"><div class=\"sk-estimator fitted sk-toggleable\"><input class=\"sk-toggleable__control sk-hidden--visually\" id=\"sk-estimator-id-1\" type=\"checkbox\" checked><label for=\"sk-estimator-id-1\" class=\"sk-toggleable__label fitted sk-toggleable__label-arrow\"><div><div>RandomForestClassifier</div></div><div><a class=\"sk-estimator-doc-link fitted\" rel=\"noreferrer\" target=\"_blank\" href=\"https://scikit-learn.org/1.6/modules/generated/sklearn.ensemble.RandomForestClassifier.html\">?<span>Documentation for RandomForestClassifier</span></a><span class=\"sk-estimator-doc-link fitted\">i<span>Fitted</span></span></div></label><div class=\"sk-toggleable__content fitted\"><pre>RandomForestClassifier(random_state=42)</pre></div> </div></div></div></div>"
      ],
      "text/plain": [
       "RandomForestClassifier(random_state=42)"
      ]
     },
     "execution_count": 69,
     "metadata": {},
     "output_type": "execute_result"
    }
   ],
   "source": [
    "from sklearn.ensemble import RandomForestClassifier\n",
    "clf = RandomForestClassifier(random_state=42)\n",
    "clf.fit(X_train, y_train)"
   ]
  },
  {
   "cell_type": "code",
   "execution_count": 70,
   "metadata": {},
   "outputs": [
    {
     "name": "stdout",
     "output_type": "stream",
     "text": [
      "              precision    recall  f1-score   support\n",
      "\n",
      "           0       1.00      1.00      1.00      9404\n",
      "           1       1.00      1.00      1.00     35591\n",
      "\n",
      "    accuracy                           1.00     44995\n",
      "   macro avg       1.00      1.00      1.00     44995\n",
      "weighted avg       1.00      1.00      1.00     44995\n",
      "\n",
      "ROC-AUC Score: 1.0\n"
     ]
    }
   ],
   "source": [
    "from sklearn.metrics import classification_report, roc_auc_score\n",
    "y_pred = clf.predict(X_test)\n",
    "print(classification_report(y_test, y_pred))\n",
    "print(\"ROC-AUC Score:\", roc_auc_score(y_test, clf.predict_proba(X_test)[:, 1]))"
   ]
  },
  {
   "cell_type": "code",
   "execution_count": 110,
   "metadata": {},
   "outputs": [],
   "source": [
    "event_time_count=13\n",
    "event_type=0\n",
    "price_mean=62.68\n",
    "price_sum=814.93\n",
    "most_viewed_brand_='creative'\n",
    "days_since_last_event=31\n",
    "brand_count=9"
   ]
  },
  {
   "cell_type": "code",
   "execution_count": 111,
   "metadata": {},
   "outputs": [],
   "source": [
    "# event_time_count=int(input(\"event_time_count=\"))\n",
    "# event_type=int(input(\"event_type=\"))\n",
    "# price_mean=float(input(\"price_mean=\"))\n",
    "# price_sum=float(input(\"price_sum=\"))\n",
    "# most_viewed_brand_=input(\"most_viewed_brand_=\")\n",
    "# days_since_last_event=int(input(\"days_since_last_event=\"))\n",
    "# brand_count=int(input(\"brand_count=\"))"
   ]
  },
  {
   "cell_type": "code",
   "execution_count": 112,
   "metadata": {},
   "outputs": [],
   "source": [
    "new_data=pd.DataFrame({\n",
    "        'event_time_count':[event_time_count],\n",
    "        'event_type_<lambda>':[event_type],\n",
    "        'price_mean':[price_mean],\n",
    "        'price_sum':[price_sum],\n",
    "        'most_viewed_brand_':[most_viewed_brand_],\n",
    "        'days_since_last_event':[days_since_last_event],\n",
    "        'brand_count':[brand_count]\n",
    "        })"
   ]
  },
  {
   "cell_type": "code",
   "execution_count": 113,
   "metadata": {},
   "outputs": [],
   "source": [
    "new_data['most_viewed_brand_']=le_most_viewed_brand_.transform(new_data['most_viewed_brand_'])"
   ]
  },
  {
   "cell_type": "code",
   "execution_count": 114,
   "metadata": {},
   "outputs": [],
   "source": [
    "output=clf.predict(new_data)"
   ]
  },
  {
   "cell_type": "code",
   "execution_count": 115,
   "metadata": {},
   "outputs": [
    {
     "data": {
      "text/plain": [
       "array([1])"
      ]
     },
     "execution_count": 115,
     "metadata": {},
     "output_type": "execute_result"
    }
   ],
   "source": [
    "output"
   ]
  },
  {
   "cell_type": "code",
   "execution_count": null,
   "metadata": {},
   "outputs": [],
   "source": []
  }
 ],
 "metadata": {
  "kernelspec": {
   "display_name": "Python 3",
   "language": "python",
   "name": "python3"
  },
  "language_info": {
   "codemirror_mode": {
    "name": "ipython",
    "version": 3
   },
   "file_extension": ".py",
   "mimetype": "text/x-python",
   "name": "python",
   "nbconvert_exporter": "python",
   "pygments_lexer": "ipython3",
   "version": "3.13.1"
  }
 },
 "nbformat": 4,
 "nbformat_minor": 2
}
